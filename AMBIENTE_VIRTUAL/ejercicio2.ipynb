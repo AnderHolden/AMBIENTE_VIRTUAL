{
  "cells": [
    {
      "cell_type": "code",
      "execution_count": null,
      "metadata": {
        "id": "xodTIEU9U3Fw"
      },
      "outputs": [],
      "source": []
    },
    {
      "cell_type": "markdown",
      "metadata": {
        "id": "WqvtnN5dU3iI"
      },
      "source": [
        "\n",
        "\n",
        "---\n",
        "\n",
        "### **🔹 Ejemplo 1: Condicional IF**\n",
        "```plaintext\n",
        "💰 = 5️⃣0️⃣  \n",
        "📢(\"¿Cuánto cuesta el producto?\")  \n",
        "🎟️ = 🔢(👀)  \n",
        "\n",
        "🧐 💰 >= 🎟️:  \n",
        "   📢(\"Compra realizada ✅\")  \n",
        "🔚  \n",
        "   📢(\"Fondos insuficientes ❌\")\n",
        "\n",
        "---\n",
        "\n",
        "\n",
        "### **🔹 Ejemplo 2: Lista y Bucle For**\n",
        "```plaintext\n",
        "🍎🍌🍓 = [\"🍎\", \"🍌\", \"🍓\"]  \n",
        "🔄 🍏 in 🍎🍌🍓:  \n",
        "   📢(🍏)  \n",
        "```\n",
        "\n",
        "\n",
        "---\n",
        "\n",
        "### **🔹 Ejemplo 3: Función**\n",
        "```plaintext\n",
        "📦(📄):  \n",
        "   📢(\"Hola \" + 📄 + \" 👋\")  \n",
        "\n",
        "📦(\"Pythonista\")  \n",
        "```\n",
        "\n",
        "\n",
        "---\n",
        "\n",
        "### **🔹 Ejemplo 4: Juego de Adivinanza con While**\n",
        "```plaintext\n",
        "🔢 = 🆕 🎯(1️⃣, 1️⃣0️⃣)  \n",
        "📢(\"Adivina un número entre 1 y 10 🎲\")  \n",
        "💡 = 0️⃣  \n",
        "\n",
        "🔄 💡 != 🔢:  \n",
        "   💡 = 🔢(👀)  \n",
        "   🧐 💡 > 🔢:  \n",
        "      📢(\"Muy alto 🔼\")  \n",
        "   🔚  \n",
        "   🧐 💡 < 🔢:  \n",
        "      📢(\"Muy bajo 🔽\")  \n",
        "   🔚  \n",
        "\n",
        "📢(\"¡Correcto! 🎉\")  \n",
        "```\n",
        "\n",
        "---\n",
        "\n",
        "### **🔹 Ejemplo 5: Contador de Vocales en un Texto**\n",
        "```plaintext\n",
        "📢(\"Escribe una palabra:\")  \n",
        "📝 = 👀  \n",
        "🔢 = 0️⃣  \n",
        "\n",
        "🔄 📄 in 📝:  \n",
        "   🧐 📄 in \"aeiouAEIOU\":  \n",
        "      🔢 += 1️⃣  \n",
        "\n",
        "📢(\"Vocales: \" + 🔢)  \n",
        "```\n",
        "\n"
      ]
    },
    {
      "cell_type": "markdown",
      "metadata": {},
      "source": [
        "## **DESAROLLO**"
      ]
    },
    {
      "cell_type": "code",
      "execution_count": 1,
      "metadata": {},
      "outputs": [
        {
          "name": "stdout",
          "output_type": "stream",
          "text": [
            "¿Cuánto cuesta el producto?\n",
            "Compra realizada ✅\n"
          ]
        }
      ],
      "source": [
        "#Ejemplo 1 COndicional If\n",
        "dinero = 50\n",
        "print(\"¿Cuánto cuesta el producto?\")\n",
        "precio = int(input())\n",
        "\n",
        "if dinero >= precio:\n",
        "    print(\"Compra realizada ✅\")\n",
        "else:\n",
        "    print(\"Fondos insuficientes ❌\")"
      ]
    },
    {
      "cell_type": "code",
      "execution_count": 2,
      "metadata": {},
      "outputs": [
        {
          "name": "stdout",
          "output_type": "stream",
          "text": [
            "manzana\n",
            "pera\n",
            "fresa\n",
            "uva\n"
          ]
        }
      ],
      "source": [
        "#Ejemplo 2: Lista y Bucles For\n",
        "frutas = [\"manzana\", \"pera\", \"fresa\", \"uva\"]\n",
        "for fruta in frutas:\n",
        "    print(fruta)"
      ]
    },
    {
      "cell_type": "code",
      "execution_count": 3,
      "metadata": {},
      "outputs": [
        {
          "name": "stdout",
          "output_type": "stream",
          "text": [
            "🍎\n",
            "🍐\n",
            "🍓\n",
            "🍇\n"
          ]
        }
      ],
      "source": [
        "#Ejemplo 2.1: Lista y Bucles For(con emojis)\n",
        "frutas = [\"🍎\", \"🍐\", \"🍓\", \"🍇\"]\n",
        "for fruta in frutas:\n",
        "    print(fruta)"
      ]
    },
    {
      "cell_type": "code",
      "execution_count": 5,
      "metadata": {},
      "outputs": [
        {
          "name": "stdout",
          "output_type": "stream",
          "text": [
            "Hola Pythonista 👋\n"
          ]
        }
      ],
      "source": [
        "#Ejemplo 3: Función\n",
        "def saludar(nombre):\n",
        "    print(\"Hola \" + nombre + \" 👋\")\n",
        "\n",
        "saludar(\"Pythonista\")"
      ]
    },
    {
      "cell_type": "code",
      "execution_count": 7,
      "metadata": {},
      "outputs": [
        {
          "name": "stdout",
          "output_type": "stream",
          "text": [
            "Adivina un número entre 1 y 10 🎲\n"
          ]
        },
        {
          "name": "stdout",
          "output_type": "stream",
          "text": [
            "Muy bajo 🔽\n",
            "Muy bajo 🔽\n",
            "Muy alto 🔼\n",
            "¡Correcto! 🎉\n"
          ]
        }
      ],
      "source": [
        "#Ejemplo 4: Juego de adivianza con While\n",
        "import random\n",
        "numero = random.randint(1, 10)\n",
        "print(\"Adivina un número entre 1 y 10 🎲\")\n",
        "intento = 0\n",
        "\n",
        "while intento != numero:\n",
        "    intento = int(input())\n",
        "    if intento > numero:\n",
        "        print(\"Muy alto 🔼\")\n",
        "    else:\n",
        "        if intento < numero:\n",
        "            print(\"Muy bajo 🔽\")\n",
        "\n",
        "print(\"¡Correcto! 🎉\")"
      ]
    },
    {
      "cell_type": "code",
      "execution_count": 8,
      "metadata": {},
      "outputs": [
        {
          "name": "stdout",
          "output_type": "stream",
          "text": [
            "Escribe una palabra:\n",
            "Vocales: 2\n"
          ]
        }
      ],
      "source": [
        "#Ejemplo 5: Contenedor de vocales en un texto\n",
        "print(\"Escribe una palabra:\")\n",
        "palabra = input()\n",
        "contador = 0\n",
        "\n",
        "for letra in palabra:\n",
        "    if letra in \"aeiouAEIOU\":\n",
        "        contador += 1\n",
        "\n",
        "print(\"Vocales: \" + str(contador))"
      ]
    }
  ],
  "metadata": {
    "colab": {
      "provenance": []
    },
    "kernelspec": {
      "display_name": "Python 3",
      "name": "python3"
    },
    "language_info": {
      "codemirror_mode": {
        "name": "ipython",
        "version": 3
      },
      "file_extension": ".py",
      "mimetype": "text/x-python",
      "name": "python",
      "nbconvert_exporter": "python",
      "pygments_lexer": "ipython3",
      "version": "3.12.5"
    }
  },
  "nbformat": 4,
  "nbformat_minor": 0
}
