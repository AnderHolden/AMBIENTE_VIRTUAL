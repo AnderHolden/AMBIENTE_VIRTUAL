{
 "cells": [
  {
   "cell_type": "markdown",
   "metadata": {},
   "source": [
    "\n",
    "## **TALENTO TECH**\n",
    "**CAMPISTA:** IVAN ANDRES URBANO RIVERA\n",
    "---\n",
    "\n",
    "## 🎯 **Desafío: Decifra el Código con Emojis en Python** 🎯  \n",
    "💡 **Objetivo:** Fomentar el pensamiento lógico y la lectura de código en Python de forma interactiva.  \n",
    "\n",
    "---\n",
    "\n",
    "### **1️⃣ Desafío Inicial** 🎲  \n",
    "📌 Presenta a los estudiantes el siguiente código sin explicar nada y pídeles que descifren qué hace:  \n",
    "\n",
    "```python\n",
    "# 🧩 Desafío: ¿Qué hace este código?\n",
    "\n",
    "🔐 = \"🚪🔑🛡️\"\n",
    "🦸 = \"¡Bienvenido, héroe!\"\n",
    "🦹 = \"¡Acceso denegado!\"\n",
    "\n",
    "def 🕵️(clave):\n",
    "    return clave == \"🚪🔑🛡️\"\n",
    "\n",
    "usuario = input(\"🔑 Ingresa la clave secreta: \")\n",
    "\n",
    "if 🕵️(usuario):\n",
    "    print(🦸)\n",
    "else:\n",
    "    print(🦹)\n",
    "```"
   ]
  },
  {
   "cell_type": "code",
   "execution_count": 2,
   "metadata": {},
   "outputs": [
    {
     "name": "stdout",
     "output_type": "stream",
     "text": [
      "¡Acceso denegado!\n"
     ]
    }
   ],
   "source": [
    "# Desafío: ¿Qué hace este código?\n",
    "\n",
    "clave_secreta = \"puerta_llave_escudo\"\n",
    "mensaje_exito = \"¡Bienvenido, héroe!\"\n",
    "mensaje_fallo = \"¡Acceso denegado!\"\n",
    "\n",
    "def verificar(clave):\n",
    "    return clave == \"puerta_llave_escudo\"\n",
    "\n",
    "usuario = input(\"Ingresa la clave secreta: \")\n",
    "\n",
    "if verificar(usuario):\n",
    "    print(mensaje_exito)\n",
    "else:\n",
    "    print(mensaje_fallo)"
   ]
  },
  {
   "cell_type": "markdown",
   "metadata": {},
   "source": [
    "Este código es un simple sistema de verificación de contraseña. Compara lo que el usuario ingresa con una clave secreta predefinida (\"\"). Si coincide, da un mensaje de bienvenida; si no, niega el acceso. Aunque usa emojis como nombres de variables y en la clave, el funcionamiento es el de un programa básico de autenticación escrito en Python.\n",
    "\n"
   ]
  },
  {
   "cell_type": "code",
   "execution_count": null,
   "metadata": {},
   "outputs": [],
   "source": []
  }
 ],
 "metadata": {
  "kernelspec": {
   "display_name": "Python 3",
   "language": "python",
   "name": "python3"
  },
  "language_info": {
   "codemirror_mode": {
    "name": "ipython",
    "version": 3
   },
   "file_extension": ".py",
   "mimetype": "text/x-python",
   "name": "python",
   "nbconvert_exporter": "python",
   "pygments_lexer": "ipython3",
   "version": "3.12.5"
  }
 },
 "nbformat": 4,
 "nbformat_minor": 2
}
