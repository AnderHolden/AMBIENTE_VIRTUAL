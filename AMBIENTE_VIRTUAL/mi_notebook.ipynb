{
 "cells": [
  {
   "cell_type": "markdown",
   "metadata": {},
   "source": [
    "#**Talento Tech**\n",
    "\n",
    "**Campista: Iván Andrés Urbano Rivera**\n",
    "\n",
    "---\n",
    "¡BIENVENIDO A PROGRAMACIÓN INTEGRADO!"
   ]
  },
  {
   "cell_type": "markdown",
   "metadata": {},
   "source": [
    "# **OPERADORES ARITMETICOS**"
   ]
  },
  {
   "cell_type": "markdown",
   "metadata": {},
   "source": [
    "**SUMA**"
   ]
  },
  {
   "cell_type": "code",
   "execution_count": 1,
   "metadata": {},
   "outputs": [
    {
     "data": {
      "text/plain": [
       "45"
      ]
     },
     "execution_count": 1,
     "metadata": {},
     "output_type": "execute_result"
    }
   ],
   "source": [
    "43 + 2"
   ]
  },
  {
   "cell_type": "markdown",
   "metadata": {},
   "source": [
    "**RESTA**"
   ]
  },
  {
   "cell_type": "code",
   "execution_count": 2,
   "metadata": {},
   "outputs": [
    {
     "data": {
      "text/plain": [
       "42"
      ]
     },
     "execution_count": 2,
     "metadata": {},
     "output_type": "execute_result"
    }
   ],
   "source": [
    "43 - 1"
   ]
  },
  {
   "cell_type": "markdown",
   "metadata": {},
   "source": [
    "**DIVISIÓN**"
   ]
  },
  {
   "cell_type": "code",
   "execution_count": 3,
   "metadata": {},
   "outputs": [
    {
     "data": {
      "text/plain": [
       "8484.666666666666"
      ]
     },
     "execution_count": 3,
     "metadata": {},
     "output_type": "execute_result"
    }
   ],
   "source": [
    "25454/3"
   ]
  },
  {
   "cell_type": "markdown",
   "metadata": {},
   "source": [
    "**MULTIPLICACION**"
   ]
  },
  {
   "cell_type": "code",
   "execution_count": 4,
   "metadata": {},
   "outputs": [
    {
     "data": {
      "text/plain": [
       "135"
      ]
     },
     "execution_count": 4,
     "metadata": {},
     "output_type": "execute_result"
    }
   ],
   "source": [
    "45 * 3"
   ]
  },
  {
   "cell_type": "markdown",
   "metadata": {},
   "source": [
    "# **MI PRIMER HOLA MUNDO**"
   ]
  },
  {
   "cell_type": "code",
   "execution_count": 5,
   "metadata": {},
   "outputs": [
    {
     "name": "stdout",
     "output_type": "stream",
     "text": [
      "Hello World\n"
     ]
    }
   ],
   "source": [
    "print(\"Hello World\")"
   ]
  },
  {
   "cell_type": "markdown",
   "metadata": {},
   "source": [
    "# **ACTIVIDAD**\n",
    "*Script \"Hola Mundo\" en 10 lenguajes de programación diferentes que puedes ejecutar en **Visual Studio** o **Visual Studio Code**.*\n",
    "\n",
    "---\n",
    "\n",
    "### **1. Python**  \n",
    "Guárdalo como `hola_mundo.py`  \n",
    "```python\n",
    "print(\"Hola Mundo\")\n",
    "```\n",
    "\n",
    "---\n",
    "\n",
    "### **2. JavaScript (Node.js)**  \n",
    "Guárdalo como `hola_mundo.js`  \n",
    "```javascript\n",
    "console.log(\"Hola Mundo\");\n",
    "```\n",
    "\n",
    "---\n",
    "\n",
    "### **3. C# (.NET Console App)**  \n",
    "Guárdalo como `Program.cs`  \n",
    "```csharp\n",
    "using System;\n",
    "\n",
    "class Program {\n",
    "    static void Main() {\n",
    "        Console.WriteLine(\"Hola Mundo\");\n",
    "    }\n",
    "}\n",
    "```\n",
    "\n",
    "---\n",
    "\n",
    "### **4. Java**  \n",
    "Guárdalo como `HolaMundo.java`  \n",
    "```java\n",
    "public class HolaMundo {\n",
    "    public static void main(String[] args) {\n",
    "        System.out.println(\"Hola Mundo\");\n",
    "    }\n",
    "}\n",
    "```\n",
    "\n",
    "---\n",
    "\n",
    "### **5. C++**  \n",
    "Guárdalo como `hola_mundo.cpp`  \n",
    "```cpp\n",
    "#include <iostream>\n",
    "using namespace std;\n",
    "\n",
    "int main() {\n",
    "    cout << \"Hola Mundo\" << endl;\n",
    "    return 0;\n",
    "}\n",
    "```\n",
    "\n",
    "---\n",
    "\n",
    "### **6. Go**  \n",
    "Guárdalo como `hola_mundo.go`  \n",
    "```go\n",
    "package main\n",
    "import \"fmt\"\n",
    "\n",
    "func main() {\n",
    "    fmt.Println(\"Hola Mundo\")\n",
    "}\n",
    "```\n",
    "\n",
    "---\n",
    "\n",
    "### **7. PHP**  \n",
    "Guárdalo como `hola_mundo.php`  \n",
    "```php\n",
    "<?php\n",
    "echo \"Hola Mundo\";\n",
    "?>\n",
    "```\n",
    "\n",
    "---\n",
    "\n",
    "### **8. Swift**  \n",
    "Guárdalo como `hola_mundo.swift`  \n",
    "```swift\n",
    "print(\"Hola Mundo\")\n",
    "```\n",
    "\n",
    "---\n",
    "\n",
    "### **9. Ruby**  \n",
    "Guárdalo como `hola_mundo.rb`  \n",
    "```ruby\n",
    "puts \"Hola Mundo\"\n",
    "```\n",
    "\n",
    "---\n",
    "\n",
    "### **10. TypeScript**  \n",
    "Guárdalo como `hola_mundo.ts`  \n",
    "```typescript\n",
    "console.log(\"Hola Mundo\");\n",
    "```\n",
    "\n",
    "---\n",
    "\n",
    "### **Ejecutar en Visual Studio Code**  \n",
    "Si usas **Visual Studio Code**, sigue estos pasos:  \n",
    "1. **Instala las extensiones necesarias** según el lenguaje (Python, C++, C#, Java, etc.).  \n",
    "2. Abre el archivo en VS Code.  \n",
    "3. Ejecuta el código usando el **terminal** o presionando `F5` (según el lenguaje)."
   ]
  }
 ],
 "metadata": {
  "kernelspec": {
   "display_name": "Python 3",
   "language": "python",
   "name": "python3"
  },
  "language_info": {
   "codemirror_mode": {
    "name": "ipython",
    "version": 3
   },
   "file_extension": ".py",
   "mimetype": "text/x-python",
   "name": "python",
   "nbconvert_exporter": "python",
   "pygments_lexer": "ipython3",
   "version": "3.12.5"
  }
 },
 "nbformat": 4,
 "nbformat_minor": 2
}
